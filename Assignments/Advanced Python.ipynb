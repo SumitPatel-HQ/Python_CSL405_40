{
  "nbformat": 4,
  "nbformat_minor": 0,
  "metadata": {
    "colab": {
      "provenance": []
    },
    "kernelspec": {
      "name": "python3",
      "display_name": "Python 3"
    },
    "language_info": {
      "name": "python"
    }
  },
  "cells": [
    {
      "cell_type": "markdown",
      "source": [
        "\n",
        "---\n",
        "# Assignment 02 - Advance Python\n",
        "\n",
        "##Sumit Vipinchandra Patel\n",
        "### Roll No.  40\n",
        "\n",
        "\n",
        "---"
      ],
      "metadata": {
        "id": "fkdHfqByisCN"
      }
    },
    {
      "cell_type": "code",
      "execution_count": 16,
      "metadata": {
        "colab": {
          "base_uri": "https://localhost:8080/",
          "height": 0
        },
        "id": "f284-oNQimYp",
        "outputId": "4276519b-d675-40e4-cafe-43add38a1f2e"
      },
      "outputs": [
        {
          "output_type": "stream",
          "name": "stdout",
          "text": [
            "$$$ Advanced Concept of Python $$$\n",
            "\n",
            "Extracted Critical Errors:\n",
            "('2025-02-10 15:45:32', 'Net_Module', 'Connection timeout from 192.168.1.10. Error Code: 0xAB12CD34')\n",
            "('2025-02-10 17:12:05', 'Security_Module', 'Unauthorized access detected from 10.0.0.5. Error Code: 0xDEADBEEF')\n"
          ]
        }
      ],
      "source": [
        "import re\n",
        "\n",
        "def extract_critical_errors(log_data: str) -> list[tuple]:\n",
        "    pattern = re.compile(\n",
        "        r\"\"\"\n",
        "        ^\\[(?P<timestamp>\\d{4}-\\d{2}-\\d{2}\\s\\d{2}:\\d{2}:\\d{2})\\]\\s+\n",
        "        \\[ERROR\\]\\s+\n",
        "        \\[(?P<module>[A-Za-z0-9_]+)\\]\\s+\n",
        "        (?P<msg>\n",
        "            (?=.*\\b(?:(?:25[0-5]|2[0-4]\\d|[01]?\\d\\d?)(?:\\.\n",
        "            (?:25[0-5]|2[0-4]\\d|[01]?\\d\\d?)){3})\\b)\n",
        "            (?=.*\\b0x[A-F0-9]{8}\\b)\n",
        "            .+\n",
        "        )\n",
        "        \"\"\", re.VERBOSE | re.MULTILINE\n",
        "    )\n",
        "\n",
        "    results = []\n",
        "\n",
        "    for match in pattern.finditer(log_data):\n",
        "        results.append((match.group(\"timestamp\"), match.group(\"module\"), match.group(\"msg\").strip()))\n",
        "\n",
        "    return results\n",
        "\n",
        "\n",
        "log_data = \"\"\"\n",
        "[2025-02-10 14:23:01] [INFO] [Auth_Module] User login successful.\n",
        "[2025-02-10 15:45:32] [ERROR] [Net_Module] Connection timeout from 192.168.1.10. Error Code: 0xAB12CD34\n",
        "[2025-02-10 16:01:10] [WARN] [Disk_Module] Low disk space warning.\n",
        "[2025-02-10 17:12:05] [ERROR] [Security_Module] Unauthorized access detected from 10.0.0.5. Error Code: 0xDEADBEEF\n",
        "\"\"\"\n",
        "\n",
        "\n",
        "extracted = extract_critical_errors(log_data)\n",
        "\n",
        "print(\"$$$ Advanced Concept of Python $$$\")\n",
        "print(\"\\nExtracted Critical Errors:\")\n",
        "for item in extracted:\n",
        "    print(item)\n"
      ]
    }
  ]
}
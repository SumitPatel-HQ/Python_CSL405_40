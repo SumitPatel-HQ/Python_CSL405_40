{
  "nbformat": 4,
  "nbformat_minor": 0,
  "metadata": {
    "colab": {
      "provenance": []
    },
    "kernelspec": {
      "name": "python3",
      "display_name": "Python 3"
    },
    "language_info": {
      "name": "python"
    }
  },
  "cells": [
    {
      "cell_type": "markdown",
      "source": [
        "# Assignment 03 - Data Structures in Python\n",
        "## Sumit Patel\n",
        "### Roll No. 40"
      ],
      "metadata": {
        "id": "LDcjiWS4vmBb"
      }
    },
    {
      "cell_type": "code",
      "execution_count": 4,
      "metadata": {
        "id": "qekh7tfKviS6"
      },
      "outputs": [],
      "source": [
        "# Linked List Rotation Implementation in Python\n",
        "\n",
        "class ListNode:\n",
        "    def __init__(self, val=0, next=None):\n",
        "        self.val = val\n",
        "        self.next = next"
      ]
    },
    {
      "cell_type": "code",
      "source": [
        "# Function to print the linked list\n",
        "def print_list(head):\n",
        "    current = head\n",
        "    while current:\n",
        "        print(current.val, end=\" -> \" if current.next else \"\\n\")\n",
        "        current = current.next"
      ],
      "metadata": {
        "id": "JnAVvwsswIb3"
      },
      "execution_count": 5,
      "outputs": []
    },
    {
      "cell_type": "code",
      "source": [
        "# Function to rotate the linked list by k places\n",
        "def rotate_right(head, k):\n",
        "    if not head or not head.next or k == 0:\n",
        "        return head\n",
        "\n",
        "    # length of the linked list\n",
        "    length = 1\n",
        "    tail = head\n",
        "    while tail.next:\n",
        "        tail = tail.next\n",
        "        length += 1\n",
        "\n",
        "    # Adjust k to avoid unnecessary full rotations\n",
        "    k = k % length\n",
        "    if k == 0:\n",
        "        return head\n",
        "\n",
        "    # Find the new tail (length - k - 1 position)\n",
        "    new_tail = head\n",
        "    for _ in range(length - k - 1):\n",
        "        new_tail = new_tail.next\n",
        "\n",
        "    # Update head and tail pointers\n",
        "    new_head = new_tail.next\n",
        "    new_tail.next = None\n",
        "    tail.next = head\n",
        "\n",
        "    return new_head"
      ],
      "metadata": {
        "id": "E9H_CpyxwNdk"
      },
      "execution_count": 6,
      "outputs": []
    },
    {
      "cell_type": "code",
      "source": [
        "# Function to create a linked list from a list of values\n",
        "def create_linked_list(values):\n",
        "    if not values:\n",
        "        return None\n",
        "    head = ListNode(values[0])\n",
        "    current = head\n",
        "    for val in values[1:]:\n",
        "        current.next = ListNode(val)\n",
        "        current = current.next\n",
        "    return head"
      ],
      "metadata": {
        "id": "EZiHaWwlwPsX"
      },
      "execution_count": 7,
      "outputs": []
    },
    {
      "cell_type": "code",
      "source": [
        "# User Input\n",
        "values = list(map(int, input(\"Enter linked list elements separated by spaces: \").split()))\n",
        "k = int(input(\"Enter the number of places to rotate: \"))"
      ],
      "metadata": {
        "colab": {
          "base_uri": "https://localhost:8080/"
        },
        "id": "i6UtofXJwR05",
        "outputId": "956fa42b-d0cd-4641-c5ae-ffc822e84c4a"
      },
      "execution_count": 8,
      "outputs": [
        {
          "name": "stdout",
          "output_type": "stream",
          "text": [
            "Enter linked list elements separated by spaces: 1 2 3 4 5\n",
            "Enter the number of places to rotate: 2\n"
          ]
        }
      ]
    },
    {
      "cell_type": "code",
      "source": [
        "# Creating the linked list\n",
        "head = create_linked_list(values)\n",
        "print(\"\\nOriginal Linked List:\")\n",
        "print_list(head)"
      ],
      "metadata": {
        "colab": {
          "base_uri": "https://localhost:8080/"
        },
        "id": "vtlo6S-twdWe",
        "outputId": "c9be695a-84a8-49ec-ac17-9e9f53c5ade8"
      },
      "execution_count": 9,
      "outputs": [
        {
          "output_type": "stream",
          "name": "stdout",
          "text": [
            "\n",
            "Original Linked List:\n",
            "1 -> 2 -> 3 -> 4 -> 5\n"
          ]
        }
      ]
    },
    {
      "cell_type": "code",
      "source": [
        "# Rotating the list\n",
        "rotated_head = rotate_right(head, k)\n",
        "print(\"\\nRotated Linked List:\")\n",
        "print_list(rotated_head)"
      ],
      "metadata": {
        "colab": {
          "base_uri": "https://localhost:8080/"
        },
        "id": "_RMUG7rswd_Q",
        "outputId": "ebf805e5-c7f9-4486-931f-787dfa40dec8"
      },
      "execution_count": 10,
      "outputs": [
        {
          "output_type": "stream",
          "name": "stdout",
          "text": [
            "\n",
            "Rotated Linked List:\n",
            "4 -> 5 -> 1 -> 2 -> 3\n"
          ]
        }
      ]
    }
  ]
}
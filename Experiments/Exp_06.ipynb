{
  "nbformat": 4,
  "nbformat_minor": 0,
  "metadata": {
    "colab": {
      "provenance": []
    },
    "kernelspec": {
      "name": "python3",
      "display_name": "Python 3"
    },
    "language_info": {
      "name": "python"
    }
  },
  "cells": [
    {
      "cell_type": "code",
      "execution_count": 4,
      "metadata": {
        "id": "0JFXSm9UyoFq"
      },
      "outputs": [],
      "source": [
        "import sqlite3"
      ]
    },
    {
      "cell_type": "code",
      "source": [
        "connection = sqlite3.connect('genericDatabase.db')\n",
        "cursor = connection.cursor()"
      ],
      "metadata": {
        "id": "eBccoBRIzWoZ"
      },
      "execution_count": 5,
      "outputs": []
    },
    {
      "cell_type": "markdown",
      "source": [
        "###Create Table"
      ],
      "metadata": {
        "id": "7K2oaGS8zeCK"
      }
    },
    {
      "cell_type": "code",
      "source": [
        "cursor.execute('''\n",
        "    CREATE TABLE IF NOT EXISTS students (\n",
        "        id INTEGER PRIMARY KEY AUTOINCREMENT,\n",
        "        name TEXT NOT NULL,\n",
        "        age INTEGER NOT NULL\n",
        "    )\n",
        "''')\n",
        "\n",
        "connection.commit()"
      ],
      "metadata": {
        "id": "DVv1_RJozj4N"
      },
      "execution_count": 6,
      "outputs": []
    },
    {
      "cell_type": "markdown",
      "source": [
        "### Create (Insertion)"
      ],
      "metadata": {
        "id": "ZsFfIRKbzmPW"
      }
    },
    {
      "cell_type": "code",
      "source": [
        "def create_student(name, age):\n",
        "    cursor.execute('''\n",
        "        INSERT INTO students (name, age)\n",
        "        VALUES (?, ?)\n",
        "    ''', (name, age))\n",
        "    connection.commit()\n",
        "    print(\"Record added successfully!\")\n",
        "\n",
        "create_student(\"Griffith\", 20)\n",
        "create_student(\"Guts\", 22)"
      ],
      "metadata": {
        "colab": {
          "base_uri": "https://localhost:8080/"
        },
        "id": "zWbDshrdzqMW",
        "outputId": "21a666c0-0363-4c35-a1b4-9927018ca61f"
      },
      "execution_count": 7,
      "outputs": [
        {
          "output_type": "stream",
          "name": "stdout",
          "text": [
            "Record added successfully!\n",
            "Record added successfully!\n"
          ]
        }
      ]
    },
    {
      "cell_type": "markdown",
      "source": [
        "#### Read (Retrieve)"
      ],
      "metadata": {
        "id": "DYZreMrf0veA"
      }
    },
    {
      "cell_type": "code",
      "source": [
        "def read_students():\n",
        "    cursor.execute('SELECT * FROM students')\n",
        "    rows = cursor.fetchall()\n",
        "    print(\"Student Records:\")\n",
        "    for row in rows:\n",
        "        print(row)\n",
        "\n",
        "read_students()"
      ],
      "metadata": {
        "colab": {
          "base_uri": "https://localhost:8080/"
        },
        "id": "c-oOcEfo0w7T",
        "outputId": "49fbc27d-5b11-4f9e-eeb5-86b82f397ece"
      },
      "execution_count": 8,
      "outputs": [
        {
          "output_type": "stream",
          "name": "stdout",
          "text": [
            "Student Records:\n",
            "(1, 'Griffith', 20)\n",
            "(2, 'Guts', 22)\n"
          ]
        }
      ]
    },
    {
      "cell_type": "markdown",
      "source": [
        "###Update\n"
      ],
      "metadata": {
        "id": "t_ir9Z6w0yxR"
      }
    },
    {
      "cell_type": "code",
      "source": [
        "def update_student_age(student_id, new_age):\n",
        "    cursor.execute('''\n",
        "        UPDATE students\n",
        "        SET age = ?\n",
        "        WHERE id = ?\n",
        "    ''', (new_age, student_id))\n",
        "    connection.commit()\n",
        "    print(\"Student age updated successfully!\")\n",
        "\n",
        "update_student_age(1, 21)  # Updating Griffith's age to 21\n",
        "read_students()"
      ],
      "metadata": {
        "colab": {
          "base_uri": "https://localhost:8080/"
        },
        "id": "IIhpG9aA01BD",
        "outputId": "3356ccfb-1113-4e8f-f07e-09f45c3ce6cc"
      },
      "execution_count": 9,
      "outputs": [
        {
          "output_type": "stream",
          "name": "stdout",
          "text": [
            "Student age updated successfully!\n",
            "Student Records:\n",
            "(1, 'Griffith', 21)\n",
            "(2, 'Guts', 22)\n"
          ]
        }
      ]
    },
    {
      "cell_type": "markdown",
      "source": [
        "###delete"
      ],
      "metadata": {
        "id": "L8ebpNET03sO"
      }
    },
    {
      "cell_type": "code",
      "source": [
        "def delete_student(student_id):\n",
        "    cursor.execute('''\n",
        "        DELETE FROM students\n",
        "        WHERE id = ?\n",
        "    ''', (student_id,))\n",
        "    connection.commit()\n",
        "    print(\"Student deleted successfully!\")\n",
        "\n",
        "delete_student(2)  # Deleting Guts' record\n",
        "read_students()"
      ],
      "metadata": {
        "colab": {
          "base_uri": "https://localhost:8080/"
        },
        "id": "dxBLjcPI02MR",
        "outputId": "496d78e0-5f2f-4711-dcb6-0da6b9a102fe"
      },
      "execution_count": 10,
      "outputs": [
        {
          "output_type": "stream",
          "name": "stdout",
          "text": [
            "Student deleted successfully!\n",
            "Student Records:\n",
            "(1, 'Griffith', 21)\n"
          ]
        }
      ]
    },
    {
      "cell_type": "markdown",
      "source": [
        "### Closing the database connection"
      ],
      "metadata": {
        "id": "ZI2OWUIe08sg"
      }
    },
    {
      "cell_type": "code",
      "source": [
        "connection.close()"
      ],
      "metadata": {
        "id": "8PD2gDN80_qV"
      },
      "execution_count": 11,
      "outputs": []
    }
  ]
}
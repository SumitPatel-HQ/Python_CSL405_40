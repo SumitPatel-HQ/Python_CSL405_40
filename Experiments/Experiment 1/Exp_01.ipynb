{
  "cells": [
    {
      "cell_type": "markdown",
      "metadata": {},
      "source": [
        "## Sumit patel - 40\n",
        "### Experiment 1"
      ]
    },
    {
      "cell_type": "code",
      "execution_count": null,
      "metadata": {
        "colab": {
          "base_uri": "https://localhost:8080/"
        },
        "id": "x3W0gyb4x2Yf",
        "outputId": "46885ece-14ef-4c12-8edd-764d2ce14fd9"
      },
      "outputs": [
        {
          "name": "stdout",
          "output_type": "stream",
          "text": [
            "Integer: 10\n",
            "Float: 20.5\n",
            "String: Hello\n",
            "Boolean: True\n",
            "List: [1, 2, 3]\n",
            "Tuple: (4, 5, 6)\n",
            "Dictionary: {'key': 'value'}\n",
            "Enter a number: 4\n",
            "The number is positive.\n",
            "For Loop Example:\n",
            "Iteration 0\n",
            "Iteration 1\n",
            "Iteration 2\n",
            "Iteration 3\n",
            "Iteration 4\n",
            "While Loop Example:\n",
            "Count: 0\n",
            "Count: 1\n",
            "Count: 2\n",
            "Function Example: 5 + 3 = 8\n"
          ]
        }
      ],
      "source": [
        "\n",
        "\n",
        "integer_var = 10\n",
        "float_var = 20.5\n",
        "string_var = \"Hello\"\n",
        "boolean_var = True\n",
        "list_var = [1, 2, 3]\n",
        "tuple_var = (4, 5, 6)\n",
        "dict_var = {\"key\": \"value\"}\n",
        "\n",
        "print(\"Integer:\", integer_var)\n",
        "print(\"Float:\", float_var)\n",
        "print(\"String:\", string_var)\n",
        "print(\"Boolean:\", boolean_var)\n",
        "print(\"List:\", list_var)\n",
        "print(\"Tuple:\", tuple_var)\n",
        "print(\"Dictionary:\", dict_var)\n",
        "\n",
        "num = int(input(\"Enter a number: \"))\n",
        "if num > 0:\n",
        "    print(\"The number is positive.\")\n",
        "elif num < 0:\n",
        "    print(\"The number is negative.\")\n",
        "else:\n",
        "    print(\"The number is zero.\")\n",
        "\n",
        "print(\"For Loop Example:\")\n",
        "for i in range(5):\n",
        "    print(\"Iteration\", i)\n",
        "\n",
        "print(\"While Loop Example:\")\n",
        "count = 0\n",
        "while count < 3:\n",
        "    print(\"Count:\", count)\n",
        "    count += 1\n",
        "\n",
        "def add(a, b):\n",
        "    return a + b\n",
        "\n",
        "print(\"Function Example: 5 + 3 =\", add(5, 3))\n"
      ]
    },
    {
      "cell_type": "markdown",
      "metadata": {},
      "source": []
    }
  ],
  "metadata": {
    "colab": {
      "provenance": []
    },
    "kernelspec": {
      "display_name": "Python 3",
      "name": "python3"
    },
    "language_info": {
      "name": "python"
    }
  },
  "nbformat": 4,
  "nbformat_minor": 0
}

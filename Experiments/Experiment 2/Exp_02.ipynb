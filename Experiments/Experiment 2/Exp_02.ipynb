{
  "cells": [
    {
      "cell_type": "markdown",
      "metadata": {},
      "source": [
        "## Sumit patel - 40\n",
        "### Experiment 2"
      ]
    },
    {
      "cell_type": "code",
      "execution_count": 1,
      "metadata": {
        "colab": {
          "base_uri": "https://localhost:8080/"
        },
        "id": "w-YvmpJzxzJM",
        "outputId": "e375aa5c-84fd-4a63-a780-18154c882657"
      },
      "outputs": [
        {
          "name": "stdout",
          "output_type": "stream",
          "text": [
            "Frontend Developer\n",
            "Backend Developer\n",
            "Fullstack\n",
            "Not a Developer\n"
          ]
        }
      ],
      "source": [
        "class Employee:\n",
        "    def __init__(\n",
        "            self,\n",
        "            designation: str = 'Developer',\n",
        "            frontend: bool = False,\n",
        "            backend: bool = False\n",
        "    ):\n",
        "        self.designation = designation\n",
        "        self.frontend = frontend\n",
        "        self.backend = backend\n",
        "\n",
        "    def __repr__(self):\n",
        "        return '{}'.format(self.designation)\n",
        "\n",
        "    def verifier(self):\n",
        "        if self.frontend and self.backend:\n",
        "            return 'Fullstack'\n",
        "        elif self.frontend:\n",
        "            return 'Frontend Developer'\n",
        "        elif self.backend:\n",
        "            return 'Backend Developer'\n",
        "        else:\n",
        "            return 'Not a Developer'\n",
        "\n",
        "\n",
        "if __name__ == '__main__':\n",
        "    firstEmployee = Employee(frontend=True, backend=False)\n",
        "    print(firstEmployee.verifier())\n",
        "\n",
        "    secondEmployee = Employee(frontend=False, backend=True)\n",
        "    print(secondEmployee.verifier())\n",
        "\n",
        "    thirdEmployee = Employee(frontend=True, backend=True)\n",
        "    print(thirdEmployee.verifier())\n",
        "\n",
        "    fourthEmployee = Employee(frontend=False, backend=False)\n",
        "    print(fourthEmployee.verifier())"
      ]
    }
  ],
  "metadata": {
    "colab": {
      "provenance": []
    },
    "kernelspec": {
      "display_name": "Python 3",
      "name": "python3"
    },
    "language_info": {
      "name": "python"
    }
  },
  "nbformat": 4,
  "nbformat_minor": 0
}

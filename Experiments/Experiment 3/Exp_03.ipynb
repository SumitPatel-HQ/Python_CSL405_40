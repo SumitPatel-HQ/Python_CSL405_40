{
  "cells": [
    {
      "cell_type": "markdown",
      "metadata": {},
      "source": [
        "## Sumit patel - 40\n",
        "### Experiment 3"
      ]
    },
    {
      "cell_type": "code",
      "execution_count": null,
      "metadata": {
        "id": "w-YvmpJzxzJM"
      },
      "outputs": [],
      "source": [
        "## Counts Number of lines , Word & Characters\n",
        "\n",
        "if __name__ == '__main__':\n",
        "    with open(\"D:\\\\Learning Hub\\\\Programming\\\\Python Programs\\\\College\\\\file.txt\", \"r\") as file:\n",
        "\n",
        "        lines = file.readlines()\n",
        "        numberOfLines = len(lines)\n",
        "        numberOfWords = sum(len(line.split()) for line in lines)\n",
        "        numberOfCharacters = sum(len(line) for line in lines)  # Counting characters including spaces and newlines\n",
        "\n",
        "    print(f\"Lines: {numberOfLines}\")\n",
        "    print(f\"Words: {numberOfWords}\")\n",
        "    print(f\"Characters: {numberOfCharacters}\")\n",
        "# Output:\n",
        "# Lines: 18\n",
        "# Words: 164\n",
        "# Characters: 1097"
      ]
    }
  ],
  "metadata": {
    "colab": {
      "provenance": []
    },
    "kernelspec": {
      "display_name": "Python 3",
      "name": "python3"
    },
    "language_info": {
      "name": "python"
    }
  },
  "nbformat": 4,
  "nbformat_minor": 0
}

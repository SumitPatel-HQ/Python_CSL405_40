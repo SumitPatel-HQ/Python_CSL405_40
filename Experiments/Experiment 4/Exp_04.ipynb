{
  "nbformat": 4,
  "nbformat_minor": 0,
  "metadata": {
    "colab": {
      "provenance": []
    },
    "kernelspec": {
      "name": "python3",
      "display_name": "Python 3"
    },
    "language_info": {
      "name": "python"
    }
  },
  "cells": [
    {
      "cell_type": "code",
      "execution_count": 5,
      "metadata": {
        "colab": {
          "base_uri": "https://localhost:8080/"
        },
        "id": "mZE2twjm8QC0",
        "outputId": "3f394905-4301-4c7d-9383-6a904262e11b"
      },
      "outputs": [
        {
          "output_type": "stream",
          "name": "stdout",
          "text": [
            "Files in the current directory:\n",
            "README.md\n",
            "Assign 1\n",
            "exp1\n",
            "exp2\n",
            "assign2\n",
            "file.txt\n"
          ]
        }
      ],
      "source": [
        "from pathlib import Path\n",
        "\n",
        "# Get the current directory\n",
        "current_directory = Path('/content/sample_data')\n",
        "\n",
        "# List all files in the current directory\n",
        "files = [file.name for file in current_directory.iterdir() if file.is_file()]\n",
        "\n",
        "print(\"Files in the current directory:\")\n",
        "for file in files:\n",
        "    print(file)"
      ]
    }
  ]
}
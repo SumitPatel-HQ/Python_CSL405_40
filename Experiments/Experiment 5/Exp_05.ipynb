{
  "cells": [
    {
      "cell_type": "markdown",
      "id": "743416eb-0d62-4665-8191-5a4aee86bd70",
      "metadata": {},
      "source": [
        "# Sumit Patel - 40\n",
        "## Experiment 5"
      ]
    },
    {
      "cell_type": "code",
      "execution_count": null,
      "id": "529fff8d-b7cf-4b61-ad49-015534bd0475",
      "metadata": {
        "trusted": true
      },
      "outputs": [],
      "source": [
        "class StackDepth:\n",
        "    def maximumDepth(self, stringInput: str) -> int:\n",
        "        max_depth = 0  \n",
        "        current_depth = 0 \n",
        "        \n",
        "       \n",
        "        for char in stringInput:\n",
        "            if char == '(':  \n",
        "                current_depth += 1  \n",
        "                max_depth = max(max_depth, current_depth)  \n",
        "            elif char == ')':\n",
        "                current_depth -= 1  \n",
        "        \n",
        "        return max_depth \n"
      ]
    },
    {
      "cell_type": "code",
      "execution_count": null,
      "id": "76b273b0-6957-4756-ab77-749a1597af3a",
      "metadata": {
        "trusted": true
      },
      "outputs": [
        {
          "name": "stdout",
          "output_type": "stream",
          "text": [
            "3\n"
          ]
        }
      ],
      "source": [
        "s = \"(1+(2*3)+((8)/4))+1\"\n",
        "stack_depth = StackDepth()\n",
        "print(stack_depth.maximumDepth(s))  # Output: 3\n"
      ]
    },
    {
      "cell_type": "code",
      "execution_count": null,
      "id": "8d6d4cec-4155-4a08-98f7-26f491e55fab",
      "metadata": {
        "trusted": true
      },
      "outputs": [
        {
          "name": "stdout",
          "output_type": "stream",
          "text": [
            "3\n"
          ]
        }
      ],
      "source": [
        "s = \"(1)+((2))+(((3)))\"\n",
        "stack_depth = StackDepth()\n",
        "print(stack_depth.maximumDepth(s))  # Output: 3\n"
      ]
    },
    {
      "cell_type": "code",
      "execution_count": null,
      "id": "a28d7c58-53b8-44ee-8c54-3a9a2a8d4cd9",
      "metadata": {
        "trusted": true
      },
      "outputs": [
        {
          "name": "stdout",
          "output_type": "stream",
          "text": [
            "3\n"
          ]
        }
      ],
      "source": [
        "s = \"()(())((()()))\"\n",
        "stack_depth = StackDepth()\n",
        "print(stack_depth.maximumDepth(s))  # Output: 3\n"
      ]
    }
  ],
  "metadata": {
    "kernelspec": {
      "display_name": "Python (Pyodide)",
      "language": "python",
      "name": "python"
    },
    "language_info": {
      "codemirror_mode": {
        "name": "python",
        "version": 3
      },
      "file_extension": ".py",
      "mimetype": "text/x-python",
      "name": "python",
      "nbconvert_exporter": "python",
      "pygments_lexer": "ipython3",
      "version": "3.8"
    }
  },
  "nbformat": 4,
  "nbformat_minor": 5
}

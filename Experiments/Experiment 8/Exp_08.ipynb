{
  "nbformat": 4,
  "nbformat_minor": 0,
  "metadata": {
    "colab": {
      "provenance": []
    },
    "kernelspec": {
      "name": "python3",
      "display_name": "Python 3"
    },
    "language_info": {
      "name": "python"
    }
  },
  "cells": [
    {
      "cell_type": "markdown",
      "source": [
        "## Sumit Patel - 40\n",
        "### Experiment 8"
      ],
      "metadata": {
        "id": "7HljZD6h_6X9"
      }
    },
    {
      "cell_type": "code",
      "execution_count": null,
      "metadata": {
        "colab": {
          "base_uri": "https://localhost:8080/"
        },
        "id": "JxMNM9mM_0zc",
        "outputId": "9cc1ba91-e09e-4f12-8748-379c261bbed3"
      },
      "outputs": [
        {
          "output_type": "stream",
          "name": "stdout",
          "text": [
            "Thread 1 started: Printing numbers...\n",
            "Thread 1 - Number: 1\n",
            "Thread 2 started: Printing letters...\n",
            "Thread 2 - Letter: A\n",
            "Thread 3 started: Printing squares...\n",
            "Thread 3 - Square of 1: 1\n",
            "Thread 1 - Number: 2\n",
            "Thread 2 - Letter: B\n",
            "Thread 3 - Square of 2: 4\n",
            "Thread 1 - Number: 3\n",
            "Thread 2 - Letter: C\n",
            "Thread 3 - Square of 3: 9\n",
            "Thread 1 - Number: 4\n",
            "Thread 2 - Letter: D\n",
            "Thread 3 - Square of 4: 16\n",
            "Thread 1 - Number: 5\n",
            "Thread 2 - Letter: E\n",
            "Thread 3 - Square of 5: 25\n",
            "Thread 1 finished: Numbers printing complete!\n",
            "Thread 2 finished: Letters printing complete!\n",
            "Thread 3 finished: Squares printing complete!\n",
            "All threads have finished executing.\n"
          ]
        }
      ],
      "source": [
        "import threading\n",
        "import time\n",
        "\n",
        "# Function to print numbers from 1 to 5\n",
        "def print_numbers():\n",
        "    print(\"Thread 1 started: Printing numbers...\")\n",
        "    for i in range(1, 6):\n",
        "        print(f\"Thread 1 - Number: {i}\")\n",
        "        time.sleep(1)\n",
        "    print(\"Thread 1 finished: Numbers printing complete!\")\n",
        "\n",
        "# Function to print letters from A to E\n",
        "def print_letters():\n",
        "    print(\"Thread 2 started: Printing letters...\")\n",
        "    for letter in 'ABCDE':\n",
        "        print(f\"Thread 2 - Letter: {letter}\")\n",
        "        time.sleep(1)\n",
        "    print(\"Thread 2 finished: Letters printing complete!\")\n",
        "\n",
        "# Function to print the square of numbers from 1 to 5\n",
        "def print_squares():\n",
        "    print(\"Thread 3 started: Printing squares...\")\n",
        "    for i in range(1, 6):\n",
        "        print(f\"Thread 3 - Square of {i}: {i ** 2}\")\n",
        "        time.sleep(1)\n",
        "    print(\"Thread 3 finished: Squares printing complete!\")\n",
        "\n",
        "# Creating threads\n",
        "thread1 = threading.Thread(target=print_numbers)\n",
        "thread2 = threading.Thread(target=print_letters)\n",
        "thread3 = threading.Thread(target=print_squares)\n",
        "\n",
        "# Starting threads\n",
        "thread1.start()\n",
        "thread2.start()\n",
        "thread3.start()\n",
        "\n",
        "# Ensuring all threads complete\n",
        "thread1.join()\n",
        "thread2.join()\n",
        "thread3.join()\n",
        "\n",
        "print(\"All threads have finished executing.\")\n"
      ]
    }
  ]
}
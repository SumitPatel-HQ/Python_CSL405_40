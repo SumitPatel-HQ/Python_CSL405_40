{
  "nbformat": 4,
  "nbformat_minor": 0,
  "metadata": {
    "colab": {
      "provenance": []
    },
    "kernelspec": {
      "name": "python3",
      "display_name": "Python 3"
    },
    "language_info": {
      "name": "python"
    }
  },
  "cells": [
    {
      "cell_type": "markdown",
      "source": [
        "## Sumit Patel - 40\n",
        "### Experiment 9"
      ],
      "metadata": {
        "id": "YAYNfLc5Z8wz"
      }
    },
    {
      "cell_type": "code",
      "execution_count": 10,
      "metadata": {
        "id": "P-Lr0_mlXFEp"
      },
      "outputs": [],
      "source": [
        "import numpy as np"
      ]
    },
    {
      "cell_type": "markdown",
      "source": [
        "### 1. Array Creation Techniques"
      ],
      "metadata": {
        "id": "ywO_-Z7IYWVY"
      }
    },
    {
      "cell_type": "code",
      "source": [
        "array_from_list = np.array([1, 2, 3, 4, 5])\n",
        "print(\"Array from List:\", array_from_list)\n",
        "print(\"\\n\")\n",
        "\n",
        "array_arange = np.arange(0, 10, 2)\n",
        "print(\"Array using arange:\", array_arange)\n",
        "print(\"\\n\")\n",
        "\n",
        "array_linspace = np.linspace(0, 10, 5)\n",
        "print(\"Array using linspace:\", array_linspace)\n",
        "print(\"\\n\")\n",
        "\n",
        "array_zeros = np.zeros((3, 3))\n",
        "print(\"Array of zeros:\")\n",
        "print(array_zeros)\n",
        "print(\"\\n\")\n",
        "\n",
        "array_ones = np.ones((2, 2))\n",
        "print(\"Array of ones:\")\n",
        "print(array_ones)\n",
        "print(\"\\n\")\n",
        "\n",
        "array_eye = np.eye(3)\n",
        "print(\"Identity matrix using eye():\")\n",
        "print(array_eye)\n",
        "print(\"\\n\")\n",
        "\n",
        "array_random = np.random.random((3, 3))\n",
        "print(\"Array of random values:\")\n",
        "print(array_random)"
      ],
      "metadata": {
        "colab": {
          "base_uri": "https://localhost:8080/"
        },
        "id": "ZZ0ZZ7RsYNI9",
        "outputId": "6c4564df-478e-4166-cad9-7856af4c2d02"
      },
      "execution_count": 11,
      "outputs": [
        {
          "output_type": "stream",
          "name": "stdout",
          "text": [
            "Array from List: [1 2 3 4 5]\n",
            "\n",
            "\n",
            "Array using arange: [0 2 4 6 8]\n",
            "\n",
            "\n",
            "Array using linspace: [ 0.   2.5  5.   7.5 10. ]\n",
            "\n",
            "\n",
            "Array of zeros:\n",
            "[[0. 0. 0.]\n",
            " [0. 0. 0.]\n",
            " [0. 0. 0.]]\n",
            "\n",
            "\n",
            "Array of ones:\n",
            "[[1. 1.]\n",
            " [1. 1.]]\n",
            "\n",
            "\n",
            "Identity matrix using eye():\n",
            "[[1. 0. 0.]\n",
            " [0. 1. 0.]\n",
            " [0. 0. 1.]]\n",
            "\n",
            "\n",
            "Array of random values:\n",
            "[[0.83052204 0.84925373 0.90446446]\n",
            " [0.20960236 0.16620976 0.0013943 ]\n",
            " [0.91240788 0.68054387 0.37749151]]\n"
          ]
        }
      ]
    },
    {
      "cell_type": "markdown",
      "source": [
        "### 2. Different NumPy Methods"
      ],
      "metadata": {
        "id": "Sly9C3ftYjtW"
      }
    },
    {
      "cell_type": "code",
      "source": [
        "reshaped_array = np.arange(1, 10).reshape(3, 3)\n",
        "print(\"Reshaped array (1 to 9 into 3x3):\")\n",
        "print(reshaped_array)\n",
        "print(\"\\n\")\n",
        "\n",
        "transposed_array = reshaped_array.T\n",
        "print(\"Transposed array:\")\n",
        "print(transposed_array)\n",
        "print(\"\\n\")\n",
        "\n",
        "array_math = np.array([1, 2, 3])\n",
        "print(\"Array + 2:\", array_math + 2)\n",
        "print(\"Array * 3:\", array_math * 3)\n",
        "print(\"Square root of array:\", np.sqrt(array_math))\n",
        "print(\"\\n\")\n",
        "\n",
        "print(\"Sum of array:\", np.sum(array_math))\n",
        "print(\"Mean of array:\", np.mean(array_math))\n",
        "print(\"Max of array:\", np.max(array_math))\n",
        "print(\"Min of array:\", np.min(array_math))\n",
        "print(\"\\n\")\n",
        "\n",
        "array_a = np.array([1, 2, 3])\n",
        "array_b = np.array([4, 5, 6])\n",
        "concat_array = np.concatenate((array_a, array_b))\n",
        "print(\"Concatenated arrays:\", concat_array)\n",
        "print(\"\\n\")\n",
        "\n",
        "unsorted_array = np.array([3, 1, 4, 2])\n",
        "sorted_array = np.sort(unsorted_array)\n",
        "print(\"Sorted array:\", sorted_array)\n",
        "print(\"\\n\")\n",
        "\n",
        "indexed_value = array_math[1]\n",
        "print(\"Indexed value:\", indexed_value)\n",
        "sliced_array = array_math[1:3]\n",
        "print(\"Sliced array:\", sliced_array)\n",
        "print(\"\\n\")\n",
        "\n",
        "boolean_mask = array_math > 2\n",
        "print(\"Boolean mask (values > 2):\", boolean_mask)\n",
        "print(\"Array with Boolean mask:\", array_math[boolean_mask])"
      ],
      "metadata": {
        "colab": {
          "base_uri": "https://localhost:8080/"
        },
        "id": "fpvPjrl-YlXm",
        "outputId": "5aa61943-3b07-43fe-9cb5-0064c51879b1"
      },
      "execution_count": 12,
      "outputs": [
        {
          "output_type": "stream",
          "name": "stdout",
          "text": [
            "Reshaped array (1 to 9 into 3x3):\n",
            "[[1 2 3]\n",
            " [4 5 6]\n",
            " [7 8 9]]\n",
            "\n",
            "\n",
            "Transposed array:\n",
            "[[1 4 7]\n",
            " [2 5 8]\n",
            " [3 6 9]]\n",
            "\n",
            "\n",
            "Array + 2: [3 4 5]\n",
            "Array * 3: [3 6 9]\n",
            "Square root of array: [1.         1.41421356 1.73205081]\n",
            "\n",
            "\n",
            "Sum of array: 6\n",
            "Mean of array: 2.0\n",
            "Max of array: 3\n",
            "Min of array: 1\n",
            "\n",
            "\n",
            "Concatenated arrays: [1 2 3 4 5 6]\n",
            "\n",
            "\n",
            "Sorted array: [1 2 3 4]\n",
            "\n",
            "\n",
            "Indexed value: 2\n",
            "Sliced array: [2 3]\n",
            "\n",
            "\n",
            "Boolean mask (values > 2): [False False  True]\n",
            "Array with Boolean mask: [3]\n"
          ]
        }
      ]
    }
  ]
}
{
  "nbformat": 4,
  "nbformat_minor": 0,
  "metadata": {
    "colab": {
      "provenance": []
    },
    "kernelspec": {
      "name": "python3",
      "display_name": "Python 3"
    },
    "language_info": {
      "name": "python"
    }
  },
  "cells": [
    {
      "cell_type": "markdown",
      "source": [
        "## Sumit Patel - 40\n",
        "### Experiment 11"
      ],
      "metadata": {
        "id": "NE26wJGqlZ8E"
      }
    },
    {
      "cell_type": "code",
      "source": [
        "import pandas as pd"
      ],
      "metadata": {
        "id": "c9m4Ks3blYXm"
      },
      "execution_count": 39,
      "outputs": []
    },
    {
      "cell_type": "code",
      "source": [
        "data = [10, 20, 30, 40, 50]\n",
        "series_from_list = pd.Series(data)\n",
        "print(\"Series from list:\")\n",
        "print(series_from_list)"
      ],
      "metadata": {
        "colab": {
          "base_uri": "https://localhost:8080/"
        },
        "id": "oz9s4fwVlfCC",
        "outputId": "16ac551e-4fce-41dc-bae2-602d5146e519"
      },
      "execution_count": 40,
      "outputs": [
        {
          "output_type": "stream",
          "name": "stdout",
          "text": [
            "Series from list:\n",
            "0    10\n",
            "1    20\n",
            "2    30\n",
            "3    40\n",
            "4    50\n",
            "dtype: int64\n"
          ]
        }
      ]
    },
    {
      "cell_type": "code",
      "source": [
        "custom_index = ['a', 'b', 'c', 'd', 'e']\n",
        "series_with_index = pd.Series(data, index=custom_index)\n",
        "print(\"\\nSeries with custom indices:\")\n",
        "print(series_with_index)"
      ],
      "metadata": {
        "colab": {
          "base_uri": "https://localhost:8080/"
        },
        "id": "Ww8OEVtblkYu",
        "outputId": "046a6b81-23c3-4117-9b9f-6581922660ff"
      },
      "execution_count": 41,
      "outputs": [
        {
          "output_type": "stream",
          "name": "stdout",
          "text": [
            "\n",
            "Series with custom indices:\n",
            "a    10\n",
            "b    20\n",
            "c    30\n",
            "d    40\n",
            "e    50\n",
            "dtype: int64\n"
          ]
        }
      ]
    },
    {
      "cell_type": "code",
      "source": [
        "print(\"\\nAccessing elements:\")\n",
        "print(\"Element at index 'c':\", series_with_index['c'])\n",
        "print(\"Element at index 'e':\", series_with_index['e'])"
      ],
      "metadata": {
        "colab": {
          "base_uri": "https://localhost:8080/"
        },
        "id": "bnoEOr9_lm42",
        "outputId": "32f1c39f-3d67-407f-e198-cc5000dc81c3"
      },
      "execution_count": 42,
      "outputs": [
        {
          "output_type": "stream",
          "name": "stdout",
          "text": [
            "\n",
            "Accessing elements:\n",
            "Element at index 'c': 30\n",
            "Element at index 'e': 50\n"
          ]
        }
      ]
    },
    {
      "cell_type": "code",
      "source": [
        "print(\"\\nArithmetic Operations:\")\n",
        "print(\"Series multiplied by 2:\")\n",
        "print(series_with_index * 2)"
      ],
      "metadata": {
        "colab": {
          "base_uri": "https://localhost:8080/"
        },
        "id": "a5q2c14slpcT",
        "outputId": "2cf0b8bb-4ae2-407b-ad21-bed61db4152c"
      },
      "execution_count": 43,
      "outputs": [
        {
          "output_type": "stream",
          "name": "stdout",
          "text": [
            "\n",
            "Arithmetic Operations:\n",
            "Series multiplied by 2:\n",
            "a     20\n",
            "b     40\n",
            "c     60\n",
            "d     80\n",
            "e    100\n",
            "dtype: int64\n"
          ]
        }
      ]
    },
    {
      "cell_type": "code",
      "source": [
        "print(\"\\nCheck if element is in the Series:\")\n",
        "print(\"Is 30 in the Series?\", 30 in series_from_list.values)\n",
        "print(\"Is 60 in the Series?\", 60 in series_from_list.values)"
      ],
      "metadata": {
        "colab": {
          "base_uri": "https://localhost:8080/"
        },
        "id": "clzfwOrZls1u",
        "outputId": "3e195688-3bb9-4d02-a390-b27eb956ffdf"
      },
      "execution_count": 44,
      "outputs": [
        {
          "output_type": "stream",
          "name": "stdout",
          "text": [
            "\n",
            "Check if element is in the Series:\n",
            "Is 30 in the Series? True\n",
            "Is 60 in the Series? False\n"
          ]
        }
      ]
    },
    {
      "cell_type": "code",
      "source": [
        "print(\"\\nSummary Statistics:\")\n",
        "print(series_from_list.describe().round(2))"
      ],
      "metadata": {
        "colab": {
          "base_uri": "https://localhost:8080/"
        },
        "id": "r7XsUwA7ltys",
        "outputId": "798e0f96-09c7-4a3b-917c-dfeeda7e3003"
      },
      "execution_count": 45,
      "outputs": [
        {
          "output_type": "stream",
          "name": "stdout",
          "text": [
            "\n",
            "Summary Statistics:\n",
            "count     5.00\n",
            "mean     30.00\n",
            "std      15.81\n",
            "min      10.00\n",
            "25%      20.00\n",
            "50%      30.00\n",
            "75%      40.00\n",
            "max      50.00\n",
            "dtype: float64\n"
          ]
        }
      ]
    },
    {
      "cell_type": "code",
      "source": [
        "data_with_missing_values = [10, 25, None, 47, 51]\n",
        "custom_index = ['a', 'b', 'c', 'd', 'e']\n",
        "series_with_missing_values = pd.Series(data_with_missing_values, index=custom_index)\n",
        "print(\"\\nSeries with Missing Values:\")\n",
        "print(series_with_missing_values)"
      ],
      "metadata": {
        "colab": {
          "base_uri": "https://localhost:8080/"
        },
        "id": "T4qKpLfel3bi",
        "outputId": "b13ce572-97fe-450c-c8d6-4c4a502bba1b"
      },
      "execution_count": 46,
      "outputs": [
        {
          "output_type": "stream",
          "name": "stdout",
          "text": [
            "\n",
            "Series with Missing Values:\n",
            "a    10.0\n",
            "b    25.0\n",
            "c     NaN\n",
            "d    47.0\n",
            "e    51.0\n",
            "dtype: float64\n"
          ]
        }
      ]
    },
    {
      "cell_type": "code",
      "source": [
        "filled_series = series_with_missing_values.fillna(33)\n",
        "print(\"\\nFilled missing values with 33:\")\n",
        "print(filled_series)"
      ],
      "metadata": {
        "colab": {
          "base_uri": "https://localhost:8080/"
        },
        "id": "CWzSBRyPl4cj",
        "outputId": "9e33e2bb-844d-4f94-e684-c03951a06205"
      },
      "execution_count": 47,
      "outputs": [
        {
          "output_type": "stream",
          "name": "stdout",
          "text": [
            "\n",
            "Filled missing values with 33:\n",
            "a    10.0\n",
            "b    25.0\n",
            "c    33.0\n",
            "d    47.0\n",
            "e    51.0\n",
            "dtype: float64\n"
          ]
        }
      ]
    },
    {
      "cell_type": "code",
      "source": [
        "series_to_list = series_from_list.tolist()\n",
        "series_to_list2 = filled_series.tolist()\n",
        "print(\"\\nConverted Series to List:\")\n",
        "print(series_to_list)\n",
        "print(series_to_list2)\n"
      ],
      "metadata": {
        "colab": {
          "base_uri": "https://localhost:8080/"
        },
        "id": "L7Wl5HbepL3g",
        "outputId": "d9589ca5-5b12-4c38-b1aa-6c9473add0bd"
      },
      "execution_count": 48,
      "outputs": [
        {
          "output_type": "stream",
          "name": "stdout",
          "text": [
            "\n",
            "Converted Series to List:\n",
            "[10, 20, 30, 40, 50]\n",
            "[10.0, 25.0, 33.0, 47.0, 51.0]\n"
          ]
        }
      ]
    }
  ]
}
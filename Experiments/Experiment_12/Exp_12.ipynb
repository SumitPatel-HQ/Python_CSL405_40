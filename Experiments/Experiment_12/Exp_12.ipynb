{
  "nbformat": 4,
  "nbformat_minor": 0,
  "metadata": {
    "colab": {
      "provenance": []
    },
    "kernelspec": {
      "name": "python3",
      "display_name": "Python 3"
    },
    "language_info": {
      "name": "python"
    }
  },
  "cells": [
    {
      "cell_type": "markdown",
      "source": [
        "## Sumit Patel - 40\n",
        "### Experiment 12"
      ],
      "metadata": {
        "id": "5ctQ9LY7rnZv"
      }
    },
    {
      "cell_type": "code",
      "execution_count": 31,
      "metadata": {
        "id": "voCxRYX6rmoO"
      },
      "outputs": [],
      "source": [
        "import pandas as pd"
      ]
    },
    {
      "cell_type": "markdown",
      "source": [
        "### Data Frame"
      ],
      "metadata": {
        "id": "6EZrKFa0rw_9"
      }
    },
    {
      "cell_type": "code",
      "source": [
        "data = {\n",
        "    'Name': ['Arthur', 'Ted', 'lara', 'Matthew', 'Eva'],\n",
        "    'Age': [24, 27, 22, 32, 29],\n",
        "    'City': ['Canada', 'Houston', 'Chicago', 'Houston', 'Miami'],\n",
        "    'Salary': [50000, 70000, 40000, 67000, 85000]\n",
        "}\n",
        "df = pd.DataFrame(data)\n",
        "\n",
        "print(\"Original DataFrame:\\n\")\n",
        "print(df)"
      ],
      "metadata": {
        "colab": {
          "base_uri": "https://localhost:8080/"
        },
        "id": "6TMvBOpRrvtP",
        "outputId": "71037ab5-b97a-4d5b-94f1-97982ed0a542"
      },
      "execution_count": 32,
      "outputs": [
        {
          "output_type": "stream",
          "name": "stdout",
          "text": [
            "Original DataFrame:\n",
            "\n",
            "      Name  Age     City  Salary\n",
            "0   Arthur   24   Canada   50000\n",
            "1      Ted   27  Houston   70000\n",
            "2     lara   22  Chicago   40000\n",
            "3  Matthew   32  Houston   67000\n",
            "4      Eva   29    Miami   85000\n"
          ]
        }
      ]
    },
    {
      "cell_type": "code",
      "source": [
        "print(\"\\nSummary Statistics:\\n\")\n",
        "print(df.describe().round(2))"
      ],
      "metadata": {
        "colab": {
          "base_uri": "https://localhost:8080/"
        },
        "id": "wd8ak17arzc6",
        "outputId": "b3fa319d-9bd1-4647-e911-97062f2de640"
      },
      "execution_count": 33,
      "outputs": [
        {
          "output_type": "stream",
          "name": "stdout",
          "text": [
            "\n",
            "Summary Statistics:\n",
            "\n",
            "         Age   Salary\n",
            "count   5.00      5.0\n",
            "mean   26.80  62400.0\n",
            "std     3.96  17643.7\n",
            "min    22.00  40000.0\n",
            "25%    24.00  50000.0\n",
            "50%    27.00  67000.0\n",
            "75%    29.00  70000.0\n",
            "max    32.00  85000.0\n"
          ]
        }
      ]
    },
    {
      "cell_type": "markdown",
      "source": [
        "### Add new Column \"Bonus\""
      ],
      "metadata": {
        "id": "6RlB_6ENsLHP"
      }
    },
    {
      "cell_type": "code",
      "source": [
        "df['Bonus'] = df['Salary'] * 0.20\n",
        "print(\"\\nDataFrame after Adding Bonus Column:\\n\")\n",
        "print(df)"
      ],
      "metadata": {
        "colab": {
          "base_uri": "https://localhost:8080/"
        },
        "id": "o9PNI5kqr6jd",
        "outputId": "71926214-1d87-42b0-89f1-e2ef1a4ad585"
      },
      "execution_count": 34,
      "outputs": [
        {
          "output_type": "stream",
          "name": "stdout",
          "text": [
            "\n",
            "DataFrame after Adding Bonus Column:\n",
            "\n",
            "      Name  Age     City  Salary    Bonus\n",
            "0   Arthur   24   Canada   50000  10000.0\n",
            "1      Ted   27  Houston   70000  14000.0\n",
            "2     lara   22  Chicago   40000   8000.0\n",
            "3  Matthew   32  Houston   67000  13400.0\n",
            "4      Eva   29    Miami   85000  17000.0\n"
          ]
        }
      ]
    },
    {
      "cell_type": "markdown",
      "source": [
        "### Filtering rows (salary > 60,000)"
      ],
      "metadata": {
        "id": "m9szAfH7sYC_"
      }
    },
    {
      "cell_type": "code",
      "source": [
        "filtered_df = df[df['Salary'] > 60000]\n",
        "print(\"\\nFiltered DataFrame (Salary > 60,000):\\n\")\n",
        "print(filtered_df)"
      ],
      "metadata": {
        "colab": {
          "base_uri": "https://localhost:8080/"
        },
        "id": "-FvQSPLIr7yg",
        "outputId": "3feb8105-e624-4b15-f207-9c52b8fc458a"
      },
      "execution_count": 35,
      "outputs": [
        {
          "output_type": "stream",
          "name": "stdout",
          "text": [
            "\n",
            "Filtered DataFrame (Salary > 60,000):\n",
            "\n",
            "      Name  Age     City  Salary    Bonus\n",
            "1      Ted   27  Houston   70000  14000.0\n",
            "3  Matthew   32  Houston   67000  13400.0\n",
            "4      Eva   29    Miami   85000  17000.0\n"
          ]
        }
      ]
    },
    {
      "cell_type": "markdown",
      "source": [
        "### Sort By Age"
      ],
      "metadata": {
        "id": "S8CJApLgshCc"
      }
    },
    {
      "cell_type": "code",
      "source": [
        "sorted_df = df.sort_values(by='Age', ascending=True)\n",
        "print(\"\\nDataFrame Sorted by Age:\\n\")\n",
        "print(sorted_df)"
      ],
      "metadata": {
        "colab": {
          "base_uri": "https://localhost:8080/"
        },
        "id": "HKYHFan8r8-O",
        "outputId": "64a42e5a-a845-4178-b1c0-7ad84e6357de"
      },
      "execution_count": 36,
      "outputs": [
        {
          "output_type": "stream",
          "name": "stdout",
          "text": [
            "\n",
            "DataFrame Sorted by Age:\n",
            "\n",
            "      Name  Age     City  Salary    Bonus\n",
            "2     lara   22  Chicago   40000   8000.0\n",
            "0   Arthur   24   Canada   50000  10000.0\n",
            "1      Ted   27  Houston   70000  14000.0\n",
            "4      Eva   29    Miami   85000  17000.0\n",
            "3  Matthew   32  Houston   67000  13400.0\n"
          ]
        }
      ]
    }
  ]
}